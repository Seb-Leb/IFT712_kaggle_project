{
 "cells": [
  {
   "cell_type": "markdown",
   "metadata": {},
   "source": [
    "# IFT712 - Term Project\n",
    "<br>Univeriste de Sherbrooke, 12/13/2019\n",
    "<br>Jeremi\n",
    "<br>Sebastien\n",
    "\n",
    "# Kaggle Dataset: Breast Cancer Wisconsin Diagnostic Dataset"
   ]
  },
  {
   "cell_type": "markdown",
   "metadata": {},
   "source": [
    "## Configs"
   ]
  },
  {
   "cell_type": "code",
   "execution_count": 8,
   "metadata": {},
   "outputs": [
    {
     "name": "stdout",
     "output_type": "stream",
     "text": [
      "The autoreload extension is already loaded. To reload it, use:\n",
      "  %reload_ext autoreload\n"
     ]
    }
   ],
   "source": [
    "''' Python packages '''\n",
    "import numpy as np\n",
    "from matplotlib import pyplot as plt\n",
    "\n",
    "''' Project specific tools '''\n",
    "from data_management import *\n",
    "from models import *\n",
    "\n",
    "''' Display configs '''\n",
    "%matplotlib inline\n",
    "plt.rcParams['figure.figsize'] = (14.0, 8.0) # set default size of plots\n",
    "\n",
    "%load_ext autoreload\n",
    "%autoreload 2"
   ]
  },
  {
   "cell_type": "markdown",
   "metadata": {},
   "source": [
    "## Description of the Data"
   ]
  },
  {
   "cell_type": "code",
   "execution_count": null,
   "metadata": {},
   "outputs": [],
   "source": []
  },
  {
   "cell_type": "code",
   "execution_count": 17,
   "metadata": {},
   "outputs": [],
   "source": [
    "data_man = DataManager('data.csv')"
   ]
  },
  {
   "cell_type": "code",
   "execution_count": 18,
   "metadata": {},
   "outputs": [],
   "source": [
    "data = data_man.parse_csv()\n",
    "x_train, t_train, x_test, t_test = data_man.split_training_test(*data, norm=True)"
   ]
  },
  {
   "cell_type": "code",
   "execution_count": 19,
   "metadata": {},
   "outputs": [
    {
     "data": {
      "text/plain": [
       "array([[ 0.25978513, -0.68684478,  0.26197222, ...,  0.11683849,\n",
       "        -0.68499901, -0.71481044],\n",
       "       [-0.5154527 , -0.4582347 , -0.52622486, ..., -0.56934708,\n",
       "        -0.41494185, -0.79312607],\n",
       "       [ 0.18027356, -0.34934055,  0.14311381, ...,  0.37388316,\n",
       "        -0.28484132, -0.547947  ],\n",
       "       ...,\n",
       "       [-0.09896351, -0.41968211, -0.13191901, ..., -0.37298969,\n",
       "        -0.67317169, -0.87340942],\n",
       "       [-0.80491268, -0.37842408, -0.77499827, ..., -0.21305842,\n",
       "        -0.38103686, -0.33805588],\n",
       "       [-0.4170098 , -0.25397362, -0.41690277, ..., -0.18831615,\n",
       "        -0.60654445, -0.6497442 ]])"
      ]
     },
     "execution_count": 19,
     "metadata": {},
     "output_type": "execute_result"
    }
   ],
   "source": [
    "x_train"
   ]
  }
 ],
 "metadata": {
  "kernelspec": {
   "display_name": "Python 3",
   "language": "python",
   "name": "python3"
  },
  "language_info": {
   "codemirror_mode": {
    "name": "ipython",
    "version": 3
   },
   "file_extension": ".py",
   "mimetype": "text/x-python",
   "name": "python",
   "nbconvert_exporter": "python",
   "pygments_lexer": "ipython3",
   "version": "3.7.3"
  }
 },
 "nbformat": 4,
 "nbformat_minor": 2
}
